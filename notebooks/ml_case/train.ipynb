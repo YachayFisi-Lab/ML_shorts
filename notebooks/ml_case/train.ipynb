{
 "cells": [
  {
   "cell_type": "code",
   "execution_count": 1,
   "metadata": {},
   "outputs": [],
   "source": [
    "# ! pip install matplotlib\n",
    "# ! pip install pandas\n",
    "# ! pip install scikit-learn\n",
    "# ! pip install torch"
   ]
  },
  {
   "cell_type": "code",
   "execution_count": 2,
   "metadata": {},
   "outputs": [
    {
     "data": {
      "text/plain": [
       "'/Users/jkn/Documents/Projects/university/ML_shorts/notebooks/'"
      ]
     },
     "execution_count": 2,
     "metadata": {},
     "output_type": "execute_result"
    }
   ],
   "source": [
    "import os\n",
    "import sys\n",
    "import matplotlib.pyplot as plt\n",
    "import pandas as pd\n",
    "import torch\n",
    "from sklearn.datasets import load_iris\n",
    "from sklearn.preprocessing import StandardScaler\n",
    "\n",
    "BASE_DIR = \"../\"\n",
    "BASE_DIR = f\"{os.path.abspath(BASE_DIR)}/\"\n",
    "sys.path.append(f\"{BASE_DIR}\")\n",
    "BASE_DIR"
   ]
  },
  {
   "cell_type": "code",
   "execution_count": 7,
   "metadata": {},
   "outputs": [],
   "source": [
    "class Adaline:\n",
    "    def __init__(self, l_rate=0.01, n_iter=100):\n",
    "        self.l_rate = l_rate\n",
    "        self.n_iter = n_iter\n",
    "        self.weights = None\n",
    "        self.bias = None\n",
    "\n",
    "    def fit(self, X, y):\n",
    "        self.weights = torch.randn(X.shape[1], dtype=torch.float32) * 0.01\n",
    "        self.bias = torch.zeros(1, dtype=torch.float32)\n",
    "        \n",
    "        for i in range(self.n_iter):\n",
    "            y_pred = self.predict(X)\n",
    "            error = y - y_pred\n",
    "            self.weights += self.l_rate * torch.matmul(X.T, error)\n",
    "            self.bias += self.l_rate * error.sum()\n",
    "\n",
    "    def predict(self, X):\n",
    "        return torch.matmul(X, self.weights) + self.bias\n",
    "\n",
    "    def save_model(self, filepath):\n",
    "        torch.save({\n",
    "            'weights': self.weights,\n",
    "            'bias': self.bias\n",
    "        }, filepath)"
   ]
  },
  {
   "cell_type": "code",
   "execution_count": 4,
   "metadata": {},
   "outputs": [],
   "source": [
    "def prepare_data():\n",
    "    iris = load_iris()\n",
    "    X = iris.data[0:100, [0, 2]]  # Sepal length and petal length\n",
    "    y = iris.target[0:100]\n",
    "\n",
    "    scaler = StandardScaler()\n",
    "    X_standardized = scaler.fit_transform(X)\n",
    "    X_tensor = torch.tensor(X_standardized, dtype=torch.float32)\n",
    "    y_tensor = torch.tensor(y, dtype=torch.float32)  # Changed to float32 for regression\n",
    "\n",
    "    indices = torch.randperm(X_tensor.size(0))\n",
    "    train_size = int(0.7 * len(X_tensor))\n",
    "    train_indices = indices[:train_size]\n",
    "    test_indices = indices[train_size:]\n",
    "    \n",
    "    X_train, X_test = X_tensor[train_indices], X_tensor[test_indices]\n",
    "    y_train, y_test = y_tensor[train_indices], y_tensor[test_indices]\n",
    "    \n",
    "    return X_train, X_test, y_train, y_test"
   ]
  },
  {
   "cell_type": "code",
   "execution_count": 5,
   "metadata": {},
   "outputs": [],
   "source": [
    "class Adaline:\n",
    "    def __init__(self, l_rate = 0.01, n_iter = 100):\n",
    "        self.l_rate = l_rate\n",
    "        self.n_iter = n_iter\n",
    "        self.weights = None\n",
    "        self.bias = None\n",
    "\n",
    "    def fit(self, X, y):\n",
    "        self.weights = torch.randn(X.shape[1], \n",
    "                                   dtype=torch.float32) * 0.01\n",
    "        self.bias = torch.zeros(1, dtype=torch.float32)\n",
    "        \n",
    "        for i in range(self.n_iter):\n",
    "            y_pred = self.predict(X)\n",
    "            error = y - y_pred\n",
    "            self.weights += self.l_rate * torch.matmul(X.T, error)\n",
    "            self.bias += self.l_rate * error.sum()   \n",
    "\n",
    "            \n",
    "    def predict(self, X):\n",
    "        return torch.matmul(X, self.weights) + self.bias"
   ]
  },
  {
   "cell_type": "markdown",
   "metadata": {},
   "source": [
    "## Main"
   ]
  },
  {
   "cell_type": "code",
   "execution_count": 8,
   "metadata": {},
   "outputs": [
    {
     "name": "stdout",
     "output_type": "stream",
     "text": [
      "Model trained and saved successfully.\n"
     ]
    }
   ],
   "source": [
    "\n",
    "X_train, X_test, y_train, y_test = prepare_data()\n",
    "\n",
    "model = Adaline(l_rate=0.01, n_iter=100)\n",
    "model.fit(X_train, y_train)\n",
    "\n",
    "# Save the trained model\n",
    "model.save_model(\"adaline_model.pth\")\n",
    "print(\"Model trained and saved successfully.\")"
   ]
  },
  {
   "cell_type": "code",
   "execution_count": null,
   "metadata": {},
   "outputs": [],
   "source": []
  }
 ],
 "metadata": {
  "kernelspec": {
   "display_name": "python3_environment",
   "language": "python",
   "name": "python3"
  },
  "language_info": {
   "codemirror_mode": {
    "name": "ipython",
    "version": 3
   },
   "file_extension": ".py",
   "mimetype": "text/x-python",
   "name": "python",
   "nbconvert_exporter": "python",
   "pygments_lexer": "ipython3",
   "version": "3.13.1"
  }
 },
 "nbformat": 4,
 "nbformat_minor": 2
}
