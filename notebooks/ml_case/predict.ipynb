{
 "cells": [
  {
   "cell_type": "code",
   "execution_count": 7,
   "metadata": {},
   "outputs": [],
   "source": [
    "import torch\n",
    "import matplotlib.pyplot as plt\n",
    "import numpy as np\n",
    "\n"
   ]
  },
  {
   "cell_type": "code",
   "execution_count": 8,
   "metadata": {},
   "outputs": [],
   "source": [
    "class Adaline:\n",
    "    def __init__(self):\n",
    "        self.weights = None\n",
    "        self.bias = None\n",
    "    \n",
    "    def load_model(self, filepath):\n",
    "        checkpoint = torch.load(filepath)\n",
    "        self.weights = checkpoint['weights']\n",
    "        self.bias = checkpoint['bias']\n",
    "    \n",
    "    def predict(self, X):\n",
    "        return torch.matmul(X, self.weights) + self.bias\n"
   ]
  },
  {
   "cell_type": "code",
   "execution_count": 12,
   "metadata": {},
   "outputs": [],
   "source": [
    "\n",
    "def plot_results(X, y, model):\n",
    "    X_np = X.numpy()\n",
    "    y_np = y.numpy()\n",
    "    \n",
    "    plt.figure(figsize=(8, 6))\n",
    "    \n",
    "    # Plot actual classes\n",
    "    plt.scatter(X_np[y_np == 0, 0], X_np[y_np == 0, 1], \n",
    "                color='red', label='Setosa (Actual)')\n",
    "    plt.scatter(X_np[y_np == 1, 0], X_np[y_np == 1, 1], \n",
    "                color='blue', label='Versicolor (Actual)')\n",
    "    \n",
    "    # Plot decision boundary\n",
    "    x_min, x_max = X_np[:, 0].min() - 1, X_np[:, 0].max() + 1\n",
    "    y_min, y_max = X_np[:, 1].min() - 1, X_np[:, 1].max() + 1\n",
    "    xx, yy = np.meshgrid(np.arange(x_min, x_max, 0.02),\n",
    "                         np.arange(y_min, y_max, 0.02))\n",
    "    \n",
    "    Z = model.predict(torch.tensor(np.c_[xx.ravel(), yy.ravel()], \n",
    "                      dtype=torch.float32))\n",
    "    Z = Z.reshape(xx.shape)\n",
    "    \n",
    "    plt.contour(xx, yy, Z.detach().numpy(), levels=[0.5], \n",
    "                colors='green', linestyles='dashed')\n",
    "    plt.contourf(xx, yy, Z.detach().numpy(), alpha=0.1, \n",
    "                 levels=[-1, 0.5, 2], colors=['red', 'blue'])\n",
    "    \n",
    "    plt.xlabel('Sepal Length (standardized)')\n",
    "    plt.ylabel('Petal Length (standardized)')\n",
    "    plt.title('Adaline Classification Results')\n",
    "    plt.legend()\n",
    "    plt.show()"
   ]
  },
  {
   "cell_type": "markdown",
   "metadata": {},
   "source": [
    "## Main"
   ]
  },
  {
   "cell_type": "code",
   "execution_count": 11,
   "metadata": {},
   "outputs": [
    {
     "name": "stdout",
     "output_type": "stream",
     "text": [
      "Model loaded successfully. Ready for predictions.\n",
      "Predictions: tensor([0.3071, 0.9746])\n"
     ]
    }
   ],
   "source": [
    "# Load the trained model\n",
    "model = Adaline()\n",
    "model.load_model(\"adaline_model.pth\")\n",
    "\n",
    "# For demonstration, we'll use some test data (in a real scenario, you'd load new data)\n",
    "# You would typically load new data here for prediction\n",
    "print(\"Model loaded successfully. Ready for predictions.\")\n",
    "\n",
    "# Example: If you had new data to predict on\n",
    "new_data = torch.tensor([[0.5, -0.3], [-1.0, 0.8]], dtype=torch.float32)\n",
    "predictions = model.predict(new_data)\n",
    "print(\"Predictions:\", predictions)"
   ]
  },
  {
   "cell_type": "code",
   "execution_count": null,
   "metadata": {},
   "outputs": [],
   "source": []
  }
 ],
 "metadata": {
  "kernelspec": {
   "display_name": "python3_environment",
   "language": "python",
   "name": "python3"
  },
  "language_info": {
   "codemirror_mode": {
    "name": "ipython",
    "version": 3
   },
   "file_extension": ".py",
   "mimetype": "text/x-python",
   "name": "python",
   "nbconvert_exporter": "python",
   "pygments_lexer": "ipython3",
   "version": "3.13.1"
  }
 },
 "nbformat": 4,
 "nbformat_minor": 2
}
